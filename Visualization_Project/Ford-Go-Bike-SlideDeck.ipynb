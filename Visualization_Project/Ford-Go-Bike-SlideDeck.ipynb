{
 "cells": [
  {
   "cell_type": "markdown",
   "metadata": {
    "slideshow": {
     "slide_type": "slide"
    }
   },
   "source": [
    "## Ford Go Bike Data \n",
    "\n",
    "### Table of Contents\n",
    "<ul>\n",
    "<li><a href=\"#wrangling\">Accessing data</a></li>\n",
    "<li><a href=\"#wrangling\">Cleaning data</a></li> \n",
    "<li><a href=\"#eda\">Univariate Data Analysis</a></li>\n",
    "<li><a href=\"#eda\">Bivariate Data Analysis</a></li>\n",
    "<li><a href=\"#eda\">Multivariate Data Analysis</a></li>\n",
    "<li><a href=\"#conclusions\">Conclusions</a></li>\n",
    "</ul>\n",
    "\n",
    "#### Introduction\n",
    "This dataset includes information about individual rides made in a bike-sharing system covering the greater San Francisco Bay area where the trips has been started in the month of January.\n",
    "My goal is to  use univariate, bivariate, and multivariate plots to explore many relationships in the data sets. \n"
   ]
  },
  {
   "cell_type": "code",
   "execution_count": 1,
   "metadata": {
    "slideshow": {
     "slide_type": "skip"
    }
   },
   "outputs": [],
   "source": [
    "# Used this cell to set up import statements for all of the packages that will be used.\n",
    "# Included a 'magic word' so that our visualizations are plotted inline with the notebook.\n",
    "import pandas as pd\n",
    "import numpy as np\n",
    "import matplotlib.pyplot as plt\n",
    "%matplotlib inline\n",
    "import seaborn as sns"
   ]
  },
  {
   "cell_type": "code",
   "execution_count": 2,
   "metadata": {
    "slideshow": {
     "slide_type": "skip"
    }
   },
   "outputs": [
    {
     "data": {
      "text/html": [
       "<div>\n",
       "<style scoped>\n",
       "    .dataframe tbody tr th:only-of-type {\n",
       "        vertical-align: middle;\n",
       "    }\n",
       "\n",
       "    .dataframe tbody tr th {\n",
       "        vertical-align: top;\n",
       "    }\n",
       "\n",
       "    .dataframe thead th {\n",
       "        text-align: right;\n",
       "    }\n",
       "</style>\n",
       "<table border=\"1\" class=\"dataframe\">\n",
       "  <thead>\n",
       "    <tr style=\"text-align: right;\">\n",
       "      <th></th>\n",
       "      <th>duration_sec</th>\n",
       "      <th>start_time</th>\n",
       "      <th>end_time</th>\n",
       "      <th>start_station_id</th>\n",
       "      <th>start_station_name</th>\n",
       "      <th>start_station_latitude</th>\n",
       "      <th>start_station_longitude</th>\n",
       "      <th>end_station_id</th>\n",
       "      <th>end_station_name</th>\n",
       "      <th>end_station_latitude</th>\n",
       "      <th>end_station_longitude</th>\n",
       "      <th>bike_id</th>\n",
       "      <th>user_type</th>\n",
       "      <th>member_birth_year</th>\n",
       "      <th>member_gender</th>\n",
       "      <th>bike_share_for_all_trip</th>\n",
       "    </tr>\n",
       "  </thead>\n",
       "  <tbody>\n",
       "    <tr>\n",
       "      <th>0</th>\n",
       "      <td>75284</td>\n",
       "      <td>2018-01-31 22:52:35.2390</td>\n",
       "      <td>2018-02-01 19:47:19.8240</td>\n",
       "      <td>120</td>\n",
       "      <td>Mission Dolores Park</td>\n",
       "      <td>37.761420</td>\n",
       "      <td>-122.426435</td>\n",
       "      <td>285</td>\n",
       "      <td>Webster St at O'Farrell St</td>\n",
       "      <td>37.783521</td>\n",
       "      <td>-122.431158</td>\n",
       "      <td>2765</td>\n",
       "      <td>Subscriber</td>\n",
       "      <td>1986.0</td>\n",
       "      <td>Male</td>\n",
       "      <td>No</td>\n",
       "    </tr>\n",
       "    <tr>\n",
       "      <th>1</th>\n",
       "      <td>85422</td>\n",
       "      <td>2018-01-31 16:13:34.3510</td>\n",
       "      <td>2018-02-01 15:57:17.3100</td>\n",
       "      <td>15</td>\n",
       "      <td>San Francisco Ferry Building (Harry Bridges Pl...</td>\n",
       "      <td>37.795392</td>\n",
       "      <td>-122.394203</td>\n",
       "      <td>15</td>\n",
       "      <td>San Francisco Ferry Building (Harry Bridges Pl...</td>\n",
       "      <td>37.795392</td>\n",
       "      <td>-122.394203</td>\n",
       "      <td>2815</td>\n",
       "      <td>Customer</td>\n",
       "      <td>NaN</td>\n",
       "      <td>NaN</td>\n",
       "      <td>No</td>\n",
       "    </tr>\n",
       "    <tr>\n",
       "      <th>2</th>\n",
       "      <td>71576</td>\n",
       "      <td>2018-01-31 14:23:55.8890</td>\n",
       "      <td>2018-02-01 10:16:52.1160</td>\n",
       "      <td>304</td>\n",
       "      <td>Jackson St at 5th St</td>\n",
       "      <td>37.348759</td>\n",
       "      <td>-121.894798</td>\n",
       "      <td>296</td>\n",
       "      <td>5th St at Virginia St</td>\n",
       "      <td>37.325998</td>\n",
       "      <td>-121.877120</td>\n",
       "      <td>3039</td>\n",
       "      <td>Customer</td>\n",
       "      <td>1996.0</td>\n",
       "      <td>Male</td>\n",
       "      <td>No</td>\n",
       "    </tr>\n",
       "  </tbody>\n",
       "</table>\n",
       "</div>"
      ],
      "text/plain": [
       "   duration_sec                start_time                  end_time  \\\n",
       "0         75284  2018-01-31 22:52:35.2390  2018-02-01 19:47:19.8240   \n",
       "1         85422  2018-01-31 16:13:34.3510  2018-02-01 15:57:17.3100   \n",
       "2         71576  2018-01-31 14:23:55.8890  2018-02-01 10:16:52.1160   \n",
       "\n",
       "   start_station_id                                 start_station_name  \\\n",
       "0               120                               Mission Dolores Park   \n",
       "1                15  San Francisco Ferry Building (Harry Bridges Pl...   \n",
       "2               304                               Jackson St at 5th St   \n",
       "\n",
       "   start_station_latitude  start_station_longitude  end_station_id  \\\n",
       "0               37.761420              -122.426435             285   \n",
       "1               37.795392              -122.394203              15   \n",
       "2               37.348759              -121.894798             296   \n",
       "\n",
       "                                    end_station_name  end_station_latitude  \\\n",
       "0                         Webster St at O'Farrell St             37.783521   \n",
       "1  San Francisco Ferry Building (Harry Bridges Pl...             37.795392   \n",
       "2                              5th St at Virginia St             37.325998   \n",
       "\n",
       "   end_station_longitude  bike_id   user_type  member_birth_year  \\\n",
       "0            -122.431158     2765  Subscriber             1986.0   \n",
       "1            -122.394203     2815    Customer                NaN   \n",
       "2            -121.877120     3039    Customer             1996.0   \n",
       "\n",
       "  member_gender bike_share_for_all_trip  \n",
       "0          Male                      No  \n",
       "1           NaN                      No  \n",
       "2          Male                      No  "
      ]
     },
     "execution_count": 2,
     "metadata": {},
     "output_type": "execute_result"
    }
   ],
   "source": [
    "# Loaded our data and printed out a few lines. \n",
    "bike = pd.read_csv(r'C:\\Users\\sagat\\Downloads\\Nanodegree\\201801-fordgobike-tripdata.csv') \n",
    "bike.head(3)"
   ]
  },
  {
   "cell_type": "code",
   "execution_count": 3,
   "metadata": {
    "slideshow": {
     "slide_type": "skip"
    }
   },
   "outputs": [
    {
     "name": "stdout",
     "output_type": "stream",
     "text": [
      "<class 'pandas.core.frame.DataFrame'>\n",
      "RangeIndex: 94802 entries, 0 to 94801\n",
      "Data columns (total 16 columns):\n",
      "duration_sec               94802 non-null int64\n",
      "start_time                 94802 non-null object\n",
      "end_time                   94802 non-null object\n",
      "start_station_id           94802 non-null int64\n",
      "start_station_name         94802 non-null object\n",
      "start_station_latitude     94802 non-null float64\n",
      "start_station_longitude    94802 non-null float64\n",
      "end_station_id             94802 non-null int64\n",
      "end_station_name           94802 non-null object\n",
      "end_station_latitude       94802 non-null float64\n",
      "end_station_longitude      94802 non-null float64\n",
      "bike_id                    94802 non-null int64\n",
      "user_type                  94802 non-null object\n",
      "member_birth_year          86963 non-null float64\n",
      "member_gender              87001 non-null object\n",
      "bike_share_for_all_trip    94802 non-null object\n",
      "dtypes: float64(5), int64(4), object(7)\n",
      "memory usage: 11.6+ MB\n"
     ]
    }
   ],
   "source": [
    "#### Show the Info of the bike Dataframe\n",
    "bike.info()"
   ]
  },
  {
   "cell_type": "markdown",
   "metadata": {
    "slideshow": {
     "slide_type": "skip"
    }
   },
   "source": [
    "#### Data Cleaning \n",
    "    - Gender of members and the birth_year has missing values\n",
    "    - Also the start time and end time are objects. We will be converting it to datetime. \n",
    "    - Changing duration in secs to mins for easier understanding\n",
    "    - Calculating an approximate age of each members. Not we can't be exact because we only have the birth year. \n",
    "    - Unwanted columns can also be removed "
   ]
  },
  {
   "cell_type": "code",
   "execution_count": 4,
   "metadata": {
    "slideshow": {
     "slide_type": "skip"
    }
   },
   "outputs": [],
   "source": [
    "#create copies of the data frame\n",
    "bike_copy =  bike.copy()   "
   ]
  },
  {
   "cell_type": "markdown",
   "metadata": {
    "slideshow": {
     "slide_type": "skip"
    }
   },
   "source": [
    "Define \n",
    "1. Gender of members and the birth_year has missing values\n",
    "\n",
    "Code"
   ]
  },
  {
   "cell_type": "code",
   "execution_count": 5,
   "metadata": {
    "slideshow": {
     "slide_type": "skip"
    }
   },
   "outputs": [],
   "source": [
    "#drop rows with missing values\n",
    "bike_copy = bike_copy.dropna()"
   ]
  },
  {
   "cell_type": "markdown",
   "metadata": {
    "slideshow": {
     "slide_type": "skip"
    }
   },
   "source": [
    "Test code"
   ]
  },
  {
   "cell_type": "code",
   "execution_count": 6,
   "metadata": {
    "slideshow": {
     "slide_type": "skip"
    }
   },
   "outputs": [
    {
     "name": "stdout",
     "output_type": "stream",
     "text": [
      "<class 'pandas.core.frame.DataFrame'>\n",
      "Int64Index: 86963 entries, 0 to 94801\n",
      "Data columns (total 16 columns):\n",
      "duration_sec               86963 non-null int64\n",
      "start_time                 86963 non-null object\n",
      "end_time                   86963 non-null object\n",
      "start_station_id           86963 non-null int64\n",
      "start_station_name         86963 non-null object\n",
      "start_station_latitude     86963 non-null float64\n",
      "start_station_longitude    86963 non-null float64\n",
      "end_station_id             86963 non-null int64\n",
      "end_station_name           86963 non-null object\n",
      "end_station_latitude       86963 non-null float64\n",
      "end_station_longitude      86963 non-null float64\n",
      "bike_id                    86963 non-null int64\n",
      "user_type                  86963 non-null object\n",
      "member_birth_year          86963 non-null float64\n",
      "member_gender              86963 non-null object\n",
      "bike_share_for_all_trip    86963 non-null object\n",
      "dtypes: float64(5), int64(4), object(7)\n",
      "memory usage: 11.3+ MB\n"
     ]
    }
   ],
   "source": [
    "# test to see it worked\n",
    "bike_copy.info()"
   ]
  },
  {
   "cell_type": "markdown",
   "metadata": {
    "slideshow": {
     "slide_type": "skip"
    }
   },
   "source": [
    "Define\n",
    "2. Also the start time and end time are objects, we will be converting it to datetime. \n",
    "\n",
    "Code for start time"
   ]
  },
  {
   "cell_type": "code",
   "execution_count": 7,
   "metadata": {
    "slideshow": {
     "slide_type": "skip"
    }
   },
   "outputs": [],
   "source": [
    "# import datetime object \n",
    "from datetime import datetime\n",
    "\n",
    "# to convert each string start time to a date creating a for loop\n",
    "start_times = []\n",
    "\n",
    "for date in bike_copy['start_time']:\n",
    "    start_times.append(datetime.strptime(date, \"%Y-%m-%d %H:%M:%S.%f\").date())\n",
    "    \n",
    "    \n",
    "bike_copy['start_time'] = start_times"
   ]
  },
  {
   "cell_type": "markdown",
   "metadata": {
    "slideshow": {
     "slide_type": "skip"
    }
   },
   "source": [
    "Test code"
   ]
  },
  {
   "cell_type": "code",
   "execution_count": 8,
   "metadata": {
    "slideshow": {
     "slide_type": "skip"
    }
   },
   "outputs": [
    {
     "data": {
      "text/plain": [
       "9773     2018-01-29\n",
       "24963    2018-01-25\n",
       "Name: start_time, dtype: object"
      ]
     },
     "execution_count": 8,
     "metadata": {},
     "output_type": "execute_result"
    }
   ],
   "source": [
    "# test to make sure it worked\n",
    "bike_copy['start_time'].sample(2)"
   ]
  },
  {
   "cell_type": "markdown",
   "metadata": {
    "slideshow": {
     "slide_type": "skip"
    }
   },
   "source": [
    "Code for end time"
   ]
  },
  {
   "cell_type": "code",
   "execution_count": 9,
   "metadata": {
    "slideshow": {
     "slide_type": "skip"
    }
   },
   "outputs": [],
   "source": [
    "# to convert each string end time to a date creating a for loop\n",
    "end_times = []\n",
    "\n",
    "for date in bike_copy['end_time']:\n",
    "    end_times.append(datetime.strptime(date, \"%Y-%m-%d %H:%M:%S.%f\").date())\n",
    "    \n",
    "    \n",
    "bike_copy['end_time'] = end_times"
   ]
  },
  {
   "cell_type": "markdown",
   "metadata": {
    "slideshow": {
     "slide_type": "skip"
    }
   },
   "source": [
    "Test code"
   ]
  },
  {
   "cell_type": "code",
   "execution_count": 10,
   "metadata": {
    "slideshow": {
     "slide_type": "skip"
    }
   },
   "outputs": [
    {
     "data": {
      "text/plain": [
       "80886    2018-01-06\n",
       "18116    2018-01-27\n",
       "Name: end_time, dtype: object"
      ]
     },
     "execution_count": 10,
     "metadata": {},
     "output_type": "execute_result"
    }
   ],
   "source": [
    "# test to make sure it worked\n",
    "bike_copy['end_time'].sample(2)"
   ]
  },
  {
   "cell_type": "markdown",
   "metadata": {
    "slideshow": {
     "slide_type": "skip"
    }
   },
   "source": [
    "Define\n",
    "3. Changing duration in secs to mins for easier understanding\n",
    "\n",
    "Code"
   ]
  },
  {
   "cell_type": "code",
   "execution_count": 11,
   "metadata": {
    "slideshow": {
     "slide_type": "skip"
    }
   },
   "outputs": [],
   "source": [
    "# Convering Duration in seconds to minutes and storing it in duration_min \n",
    "bike_copy['duration_min'] = bike_copy['duration_sec'] / 60\n",
    "\n",
    "#Dropping the duration in seconds column\n",
    "bike_copy.drop('duration_sec' , axis = 1 , inplace = True)"
   ]
  },
  {
   "cell_type": "markdown",
   "metadata": {
    "slideshow": {
     "slide_type": "skip"
    }
   },
   "source": [
    "Test code"
   ]
  },
  {
   "cell_type": "code",
   "execution_count": 12,
   "metadata": {
    "slideshow": {
     "slide_type": "skip"
    }
   },
   "outputs": [
    {
     "data": {
      "text/html": [
       "<div>\n",
       "<style scoped>\n",
       "    .dataframe tbody tr th:only-of-type {\n",
       "        vertical-align: middle;\n",
       "    }\n",
       "\n",
       "    .dataframe tbody tr th {\n",
       "        vertical-align: top;\n",
       "    }\n",
       "\n",
       "    .dataframe thead th {\n",
       "        text-align: right;\n",
       "    }\n",
       "</style>\n",
       "<table border=\"1\" class=\"dataframe\">\n",
       "  <thead>\n",
       "    <tr style=\"text-align: right;\">\n",
       "      <th></th>\n",
       "      <th>start_time</th>\n",
       "      <th>end_time</th>\n",
       "      <th>start_station_id</th>\n",
       "      <th>start_station_name</th>\n",
       "      <th>start_station_latitude</th>\n",
       "      <th>start_station_longitude</th>\n",
       "      <th>end_station_id</th>\n",
       "      <th>end_station_name</th>\n",
       "      <th>end_station_latitude</th>\n",
       "      <th>end_station_longitude</th>\n",
       "      <th>bike_id</th>\n",
       "      <th>user_type</th>\n",
       "      <th>member_birth_year</th>\n",
       "      <th>member_gender</th>\n",
       "      <th>bike_share_for_all_trip</th>\n",
       "      <th>duration_min</th>\n",
       "    </tr>\n",
       "  </thead>\n",
       "  <tbody>\n",
       "    <tr>\n",
       "      <th>0</th>\n",
       "      <td>2018-01-31</td>\n",
       "      <td>2018-02-01</td>\n",
       "      <td>120</td>\n",
       "      <td>Mission Dolores Park</td>\n",
       "      <td>37.761420</td>\n",
       "      <td>-122.426435</td>\n",
       "      <td>285</td>\n",
       "      <td>Webster St at O'Farrell St</td>\n",
       "      <td>37.783521</td>\n",
       "      <td>-122.431158</td>\n",
       "      <td>2765</td>\n",
       "      <td>Subscriber</td>\n",
       "      <td>1986.0</td>\n",
       "      <td>Male</td>\n",
       "      <td>No</td>\n",
       "      <td>1254.733333</td>\n",
       "    </tr>\n",
       "    <tr>\n",
       "      <th>1</th>\n",
       "      <td>2018-01-31</td>\n",
       "      <td>2018-02-01</td>\n",
       "      <td>15</td>\n",
       "      <td>San Francisco Ferry Building (Harry Bridges Pl...</td>\n",
       "      <td>37.795392</td>\n",
       "      <td>-122.394203</td>\n",
       "      <td>15</td>\n",
       "      <td>San Francisco Ferry Building (Harry Bridges Pl...</td>\n",
       "      <td>37.795392</td>\n",
       "      <td>-122.394203</td>\n",
       "      <td>2815</td>\n",
       "      <td>Customer</td>\n",
       "      <td>NaN</td>\n",
       "      <td>NaN</td>\n",
       "      <td>No</td>\n",
       "      <td>1423.700000</td>\n",
       "    </tr>\n",
       "  </tbody>\n",
       "</table>\n",
       "</div>"
      ],
      "text/plain": [
       "   start_time    end_time  start_station_id  \\\n",
       "0  2018-01-31  2018-02-01               120   \n",
       "1  2018-01-31  2018-02-01                15   \n",
       "\n",
       "                                  start_station_name  start_station_latitude  \\\n",
       "0                               Mission Dolores Park               37.761420   \n",
       "1  San Francisco Ferry Building (Harry Bridges Pl...               37.795392   \n",
       "\n",
       "   start_station_longitude  end_station_id  \\\n",
       "0              -122.426435             285   \n",
       "1              -122.394203              15   \n",
       "\n",
       "                                    end_station_name  end_station_latitude  \\\n",
       "0                         Webster St at O'Farrell St             37.783521   \n",
       "1  San Francisco Ferry Building (Harry Bridges Pl...             37.795392   \n",
       "\n",
       "   end_station_longitude  bike_id   user_type  member_birth_year  \\\n",
       "0            -122.431158     2765  Subscriber             1986.0   \n",
       "1            -122.394203     2815    Customer                NaN   \n",
       "\n",
       "  member_gender bike_share_for_all_trip  duration_min  \n",
       "0          Male                      No   1254.733333  \n",
       "1           NaN                      No   1423.700000  "
      ]
     },
     "execution_count": 12,
     "metadata": {},
     "output_type": "execute_result"
    }
   ],
   "source": [
    "bike_copy.head(2)"
   ]
  },
  {
   "cell_type": "markdown",
   "metadata": {
    "slideshow": {
     "slide_type": "skip"
    }
   },
   "source": [
    "Define\n",
    "4. Calculating an approximate age of each members. \n",
    "\n",
    "Code"
   ]
  },
  {
   "cell_type": "code",
   "execution_count": 13,
   "metadata": {
    "slideshow": {
     "slide_type": "skip"
    }
   },
   "outputs": [],
   "source": [
    "# Calculating the age of the members and storing the values in member_age\n",
    "now = 2019\n",
    "bike_copy['member_age'] = now - bike_copy['member_birth_year']"
   ]
  },
  {
   "cell_type": "markdown",
   "metadata": {
    "slideshow": {
     "slide_type": "skip"
    }
   },
   "source": [
    "Test"
   ]
  },
  {
   "cell_type": "code",
   "execution_count": 14,
   "metadata": {
    "slideshow": {
     "slide_type": "skip"
    }
   },
   "outputs": [
    {
     "data": {
      "text/html": [
       "<div>\n",
       "<style scoped>\n",
       "    .dataframe tbody tr th:only-of-type {\n",
       "        vertical-align: middle;\n",
       "    }\n",
       "\n",
       "    .dataframe tbody tr th {\n",
       "        vertical-align: top;\n",
       "    }\n",
       "\n",
       "    .dataframe thead th {\n",
       "        text-align: right;\n",
       "    }\n",
       "</style>\n",
       "<table border=\"1\" class=\"dataframe\">\n",
       "  <thead>\n",
       "    <tr style=\"text-align: right;\">\n",
       "      <th></th>\n",
       "      <th>start_time</th>\n",
       "      <th>end_time</th>\n",
       "      <th>start_station_id</th>\n",
       "      <th>start_station_name</th>\n",
       "      <th>start_station_latitude</th>\n",
       "      <th>start_station_longitude</th>\n",
       "      <th>end_station_id</th>\n",
       "      <th>end_station_name</th>\n",
       "      <th>end_station_latitude</th>\n",
       "      <th>end_station_longitude</th>\n",
       "      <th>bike_id</th>\n",
       "      <th>user_type</th>\n",
       "      <th>member_birth_year</th>\n",
       "      <th>member_gender</th>\n",
       "      <th>bike_share_for_all_trip</th>\n",
       "      <th>duration_min</th>\n",
       "      <th>member_age</th>\n",
       "    </tr>\n",
       "  </thead>\n",
       "  <tbody>\n",
       "    <tr>\n",
       "      <th>0</th>\n",
       "      <td>2018-01-31</td>\n",
       "      <td>2018-02-01</td>\n",
       "      <td>120</td>\n",
       "      <td>Mission Dolores Park</td>\n",
       "      <td>37.761420</td>\n",
       "      <td>-122.426435</td>\n",
       "      <td>285</td>\n",
       "      <td>Webster St at O'Farrell St</td>\n",
       "      <td>37.783521</td>\n",
       "      <td>-122.431158</td>\n",
       "      <td>2765</td>\n",
       "      <td>Subscriber</td>\n",
       "      <td>1986.0</td>\n",
       "      <td>Male</td>\n",
       "      <td>No</td>\n",
       "      <td>1254.733333</td>\n",
       "      <td>33.0</td>\n",
       "    </tr>\n",
       "    <tr>\n",
       "      <th>1</th>\n",
       "      <td>2018-01-31</td>\n",
       "      <td>2018-02-01</td>\n",
       "      <td>15</td>\n",
       "      <td>San Francisco Ferry Building (Harry Bridges Pl...</td>\n",
       "      <td>37.795392</td>\n",
       "      <td>-122.394203</td>\n",
       "      <td>15</td>\n",
       "      <td>San Francisco Ferry Building (Harry Bridges Pl...</td>\n",
       "      <td>37.795392</td>\n",
       "      <td>-122.394203</td>\n",
       "      <td>2815</td>\n",
       "      <td>Customer</td>\n",
       "      <td>NaN</td>\n",
       "      <td>NaN</td>\n",
       "      <td>No</td>\n",
       "      <td>1423.700000</td>\n",
       "      <td>NaN</td>\n",
       "    </tr>\n",
       "  </tbody>\n",
       "</table>\n",
       "</div>"
      ],
      "text/plain": [
       "   start_time    end_time  start_station_id  \\\n",
       "0  2018-01-31  2018-02-01               120   \n",
       "1  2018-01-31  2018-02-01                15   \n",
       "\n",
       "                                  start_station_name  start_station_latitude  \\\n",
       "0                               Mission Dolores Park               37.761420   \n",
       "1  San Francisco Ferry Building (Harry Bridges Pl...               37.795392   \n",
       "\n",
       "   start_station_longitude  end_station_id  \\\n",
       "0              -122.426435             285   \n",
       "1              -122.394203              15   \n",
       "\n",
       "                                    end_station_name  end_station_latitude  \\\n",
       "0                         Webster St at O'Farrell St             37.783521   \n",
       "1  San Francisco Ferry Building (Harry Bridges Pl...             37.795392   \n",
       "\n",
       "   end_station_longitude  bike_id   user_type  member_birth_year  \\\n",
       "0            -122.431158     2765  Subscriber             1986.0   \n",
       "1            -122.394203     2815    Customer                NaN   \n",
       "\n",
       "  member_gender bike_share_for_all_trip  duration_min  member_age  \n",
       "0          Male                      No   1254.733333        33.0  \n",
       "1           NaN                      No   1423.700000         NaN  "
      ]
     },
     "execution_count": 14,
     "metadata": {},
     "output_type": "execute_result"
    }
   ],
   "source": [
    "bike_copy.head(2)"
   ]
  },
  {
   "cell_type": "markdown",
   "metadata": {
    "slideshow": {
     "slide_type": "skip"
    }
   },
   "source": [
    "Define\n",
    "4. Unwanted columns can also be removed\n",
    "\n",
    "Code"
   ]
  },
  {
   "cell_type": "code",
   "execution_count": 17,
   "metadata": {
    "slideshow": {
     "slide_type": "skip"
    }
   },
   "outputs": [],
   "source": [
    "# Removing unwanted columns \n",
    "bike_copy.drop(['start_station_name','start_station_latitude','start_station_longitude', 'end_station_name','end_station_latitude', 'end_station_longitude'], axis=1, inplace=True)"
   ]
  },
  {
   "cell_type": "markdown",
   "metadata": {
    "slideshow": {
     "slide_type": "skip"
    }
   },
   "source": [
    "Test"
   ]
  },
  {
   "cell_type": "code",
   "execution_count": 18,
   "metadata": {
    "slideshow": {
     "slide_type": "skip"
    }
   },
   "outputs": [
    {
     "data": {
      "text/html": [
       "<div>\n",
       "<style scoped>\n",
       "    .dataframe tbody tr th:only-of-type {\n",
       "        vertical-align: middle;\n",
       "    }\n",
       "\n",
       "    .dataframe tbody tr th {\n",
       "        vertical-align: top;\n",
       "    }\n",
       "\n",
       "    .dataframe thead th {\n",
       "        text-align: right;\n",
       "    }\n",
       "</style>\n",
       "<table border=\"1\" class=\"dataframe\">\n",
       "  <thead>\n",
       "    <tr style=\"text-align: right;\">\n",
       "      <th></th>\n",
       "      <th>start_time</th>\n",
       "      <th>end_time</th>\n",
       "      <th>start_station_id</th>\n",
       "      <th>end_station_id</th>\n",
       "      <th>bike_id</th>\n",
       "      <th>user_type</th>\n",
       "      <th>member_birth_year</th>\n",
       "      <th>member_gender</th>\n",
       "      <th>bike_share_for_all_trip</th>\n",
       "      <th>duration_min</th>\n",
       "      <th>member_age</th>\n",
       "    </tr>\n",
       "  </thead>\n",
       "  <tbody>\n",
       "    <tr>\n",
       "      <th>0</th>\n",
       "      <td>2018-01-31</td>\n",
       "      <td>2018-02-01</td>\n",
       "      <td>120</td>\n",
       "      <td>285</td>\n",
       "      <td>2765</td>\n",
       "      <td>Subscriber</td>\n",
       "      <td>1986.0</td>\n",
       "      <td>Male</td>\n",
       "      <td>No</td>\n",
       "      <td>1254.733333</td>\n",
       "      <td>33.0</td>\n",
       "    </tr>\n",
       "    <tr>\n",
       "      <th>1</th>\n",
       "      <td>2018-01-31</td>\n",
       "      <td>2018-02-01</td>\n",
       "      <td>15</td>\n",
       "      <td>15</td>\n",
       "      <td>2815</td>\n",
       "      <td>Customer</td>\n",
       "      <td>NaN</td>\n",
       "      <td>NaN</td>\n",
       "      <td>No</td>\n",
       "      <td>1423.700000</td>\n",
       "      <td>NaN</td>\n",
       "    </tr>\n",
       "    <tr>\n",
       "      <th>2</th>\n",
       "      <td>2018-01-31</td>\n",
       "      <td>2018-02-01</td>\n",
       "      <td>304</td>\n",
       "      <td>296</td>\n",
       "      <td>3039</td>\n",
       "      <td>Customer</td>\n",
       "      <td>1996.0</td>\n",
       "      <td>Male</td>\n",
       "      <td>No</td>\n",
       "      <td>1192.933333</td>\n",
       "      <td>23.0</td>\n",
       "    </tr>\n",
       "    <tr>\n",
       "      <th>3</th>\n",
       "      <td>2018-01-31</td>\n",
       "      <td>2018-02-01</td>\n",
       "      <td>75</td>\n",
       "      <td>47</td>\n",
       "      <td>321</td>\n",
       "      <td>Customer</td>\n",
       "      <td>NaN</td>\n",
       "      <td>NaN</td>\n",
       "      <td>No</td>\n",
       "      <td>1017.933333</td>\n",
       "      <td>NaN</td>\n",
       "    </tr>\n",
       "    <tr>\n",
       "      <th>4</th>\n",
       "      <td>2018-01-31</td>\n",
       "      <td>2018-02-01</td>\n",
       "      <td>74</td>\n",
       "      <td>19</td>\n",
       "      <td>617</td>\n",
       "      <td>Subscriber</td>\n",
       "      <td>1991.0</td>\n",
       "      <td>Male</td>\n",
       "      <td>No</td>\n",
       "      <td>666.100000</td>\n",
       "      <td>28.0</td>\n",
       "    </tr>\n",
       "    <tr>\n",
       "      <th>5</th>\n",
       "      <td>2018-01-31</td>\n",
       "      <td>2018-02-01</td>\n",
       "      <td>236</td>\n",
       "      <td>160</td>\n",
       "      <td>1306</td>\n",
       "      <td>Customer</td>\n",
       "      <td>NaN</td>\n",
       "      <td>NaN</td>\n",
       "      <td>No</td>\n",
       "      <td>107.950000</td>\n",
       "      <td>NaN</td>\n",
       "    </tr>\n",
       "    <tr>\n",
       "      <th>6</th>\n",
       "      <td>2018-01-31</td>\n",
       "      <td>2018-02-01</td>\n",
       "      <td>110</td>\n",
       "      <td>134</td>\n",
       "      <td>3571</td>\n",
       "      <td>Subscriber</td>\n",
       "      <td>1988.0</td>\n",
       "      <td>Male</td>\n",
       "      <td>No</td>\n",
       "      <td>7.550000</td>\n",
       "      <td>31.0</td>\n",
       "    </tr>\n",
       "    <tr>\n",
       "      <th>7</th>\n",
       "      <td>2018-01-31</td>\n",
       "      <td>2018-01-31</td>\n",
       "      <td>81</td>\n",
       "      <td>93</td>\n",
       "      <td>1403</td>\n",
       "      <td>Subscriber</td>\n",
       "      <td>1980.0</td>\n",
       "      <td>Male</td>\n",
       "      <td>No</td>\n",
       "      <td>3.000000</td>\n",
       "      <td>39.0</td>\n",
       "    </tr>\n",
       "    <tr>\n",
       "      <th>8</th>\n",
       "      <td>2018-01-31</td>\n",
       "      <td>2018-01-31</td>\n",
       "      <td>134</td>\n",
       "      <td>4</td>\n",
       "      <td>3675</td>\n",
       "      <td>Subscriber</td>\n",
       "      <td>1987.0</td>\n",
       "      <td>Male</td>\n",
       "      <td>Yes</td>\n",
       "      <td>16.600000</td>\n",
       "      <td>32.0</td>\n",
       "    </tr>\n",
       "    <tr>\n",
       "      <th>9</th>\n",
       "      <td>2018-01-31</td>\n",
       "      <td>2018-01-31</td>\n",
       "      <td>305</td>\n",
       "      <td>317</td>\n",
       "      <td>1453</td>\n",
       "      <td>Subscriber</td>\n",
       "      <td>1994.0</td>\n",
       "      <td>Female</td>\n",
       "      <td>Yes</td>\n",
       "      <td>13.750000</td>\n",
       "      <td>25.0</td>\n",
       "    </tr>\n",
       "    <tr>\n",
       "      <th>10</th>\n",
       "      <td>2018-01-31</td>\n",
       "      <td>2018-01-31</td>\n",
       "      <td>98</td>\n",
       "      <td>4</td>\n",
       "      <td>1278</td>\n",
       "      <td>Customer</td>\n",
       "      <td>NaN</td>\n",
       "      <td>NaN</td>\n",
       "      <td>No</td>\n",
       "      <td>21.933333</td>\n",
       "      <td>NaN</td>\n",
       "    </tr>\n",
       "    <tr>\n",
       "      <th>11</th>\n",
       "      <td>2018-01-31</td>\n",
       "      <td>2018-01-31</td>\n",
       "      <td>89</td>\n",
       "      <td>43</td>\n",
       "      <td>2928</td>\n",
       "      <td>Subscriber</td>\n",
       "      <td>1993.0</td>\n",
       "      <td>Male</td>\n",
       "      <td>No</td>\n",
       "      <td>7.200000</td>\n",
       "      <td>26.0</td>\n",
       "    </tr>\n",
       "    <tr>\n",
       "      <th>12</th>\n",
       "      <td>2018-01-31</td>\n",
       "      <td>2018-01-31</td>\n",
       "      <td>223</td>\n",
       "      <td>86</td>\n",
       "      <td>3016</td>\n",
       "      <td>Subscriber</td>\n",
       "      <td>1957.0</td>\n",
       "      <td>Male</td>\n",
       "      <td>No</td>\n",
       "      <td>10.016667</td>\n",
       "      <td>62.0</td>\n",
       "    </tr>\n",
       "    <tr>\n",
       "      <th>13</th>\n",
       "      <td>2018-01-31</td>\n",
       "      <td>2018-01-31</td>\n",
       "      <td>308</td>\n",
       "      <td>297</td>\n",
       "      <td>55</td>\n",
       "      <td>Subscriber</td>\n",
       "      <td>1976.0</td>\n",
       "      <td>Female</td>\n",
       "      <td>Yes</td>\n",
       "      <td>14.783333</td>\n",
       "      <td>43.0</td>\n",
       "    </tr>\n",
       "    <tr>\n",
       "      <th>14</th>\n",
       "      <td>2018-01-31</td>\n",
       "      <td>2018-01-31</td>\n",
       "      <td>7</td>\n",
       "      <td>186</td>\n",
       "      <td>2602</td>\n",
       "      <td>Subscriber</td>\n",
       "      <td>1976.0</td>\n",
       "      <td>Male</td>\n",
       "      <td>No</td>\n",
       "      <td>3.500000</td>\n",
       "      <td>43.0</td>\n",
       "    </tr>\n",
       "    <tr>\n",
       "      <th>15</th>\n",
       "      <td>2018-01-31</td>\n",
       "      <td>2018-01-31</td>\n",
       "      <td>98</td>\n",
       "      <td>76</td>\n",
       "      <td>2556</td>\n",
       "      <td>Subscriber</td>\n",
       "      <td>1964.0</td>\n",
       "      <td>Female</td>\n",
       "      <td>No</td>\n",
       "      <td>3.133333</td>\n",
       "      <td>55.0</td>\n",
       "    </tr>\n",
       "    <tr>\n",
       "      <th>16</th>\n",
       "      <td>2018-01-31</td>\n",
       "      <td>2018-01-31</td>\n",
       "      <td>67</td>\n",
       "      <td>98</td>\n",
       "      <td>3041</td>\n",
       "      <td>Subscriber</td>\n",
       "      <td>1976.0</td>\n",
       "      <td>Male</td>\n",
       "      <td>Yes</td>\n",
       "      <td>13.466667</td>\n",
       "      <td>43.0</td>\n",
       "    </tr>\n",
       "    <tr>\n",
       "      <th>17</th>\n",
       "      <td>2018-01-31</td>\n",
       "      <td>2018-01-31</td>\n",
       "      <td>80</td>\n",
       "      <td>78</td>\n",
       "      <td>546</td>\n",
       "      <td>Subscriber</td>\n",
       "      <td>1995.0</td>\n",
       "      <td>Female</td>\n",
       "      <td>No</td>\n",
       "      <td>6.300000</td>\n",
       "      <td>24.0</td>\n",
       "    </tr>\n",
       "    <tr>\n",
       "      <th>18</th>\n",
       "      <td>2018-01-31</td>\n",
       "      <td>2018-01-31</td>\n",
       "      <td>247</td>\n",
       "      <td>274</td>\n",
       "      <td>431</td>\n",
       "      <td>Subscriber</td>\n",
       "      <td>NaN</td>\n",
       "      <td>NaN</td>\n",
       "      <td>No</td>\n",
       "      <td>5.833333</td>\n",
       "      <td>NaN</td>\n",
       "    </tr>\n",
       "    <tr>\n",
       "      <th>19</th>\n",
       "      <td>2018-01-31</td>\n",
       "      <td>2018-01-31</td>\n",
       "      <td>312</td>\n",
       "      <td>317</td>\n",
       "      <td>1886</td>\n",
       "      <td>Subscriber</td>\n",
       "      <td>1997.0</td>\n",
       "      <td>Female</td>\n",
       "      <td>No</td>\n",
       "      <td>11.433333</td>\n",
       "      <td>22.0</td>\n",
       "    </tr>\n",
       "    <tr>\n",
       "      <th>20</th>\n",
       "      <td>2018-01-31</td>\n",
       "      <td>2018-01-31</td>\n",
       "      <td>241</td>\n",
       "      <td>157</td>\n",
       "      <td>3583</td>\n",
       "      <td>Subscriber</td>\n",
       "      <td>1994.0</td>\n",
       "      <td>Male</td>\n",
       "      <td>No</td>\n",
       "      <td>7.500000</td>\n",
       "      <td>25.0</td>\n",
       "    </tr>\n",
       "    <tr>\n",
       "      <th>21</th>\n",
       "      <td>2018-01-31</td>\n",
       "      <td>2018-01-31</td>\n",
       "      <td>239</td>\n",
       "      <td>244</td>\n",
       "      <td>2144</td>\n",
       "      <td>Subscriber</td>\n",
       "      <td>1983.0</td>\n",
       "      <td>Male</td>\n",
       "      <td>No</td>\n",
       "      <td>4.900000</td>\n",
       "      <td>36.0</td>\n",
       "    </tr>\n",
       "    <tr>\n",
       "      <th>22</th>\n",
       "      <td>2018-01-31</td>\n",
       "      <td>2018-01-31</td>\n",
       "      <td>182</td>\n",
       "      <td>183</td>\n",
       "      <td>3468</td>\n",
       "      <td>Subscriber</td>\n",
       "      <td>1945.0</td>\n",
       "      <td>Male</td>\n",
       "      <td>Yes</td>\n",
       "      <td>2.500000</td>\n",
       "      <td>74.0</td>\n",
       "    </tr>\n",
       "    <tr>\n",
       "      <th>23</th>\n",
       "      <td>2018-01-31</td>\n",
       "      <td>2018-01-31</td>\n",
       "      <td>119</td>\n",
       "      <td>134</td>\n",
       "      <td>1432</td>\n",
       "      <td>Subscriber</td>\n",
       "      <td>1971.0</td>\n",
       "      <td>Male</td>\n",
       "      <td>Yes</td>\n",
       "      <td>7.700000</td>\n",
       "      <td>48.0</td>\n",
       "    </tr>\n",
       "    <tr>\n",
       "      <th>24</th>\n",
       "      <td>2018-01-31</td>\n",
       "      <td>2018-01-31</td>\n",
       "      <td>176</td>\n",
       "      <td>189</td>\n",
       "      <td>997</td>\n",
       "      <td>Subscriber</td>\n",
       "      <td>1975.0</td>\n",
       "      <td>Male</td>\n",
       "      <td>No</td>\n",
       "      <td>6.316667</td>\n",
       "      <td>44.0</td>\n",
       "    </tr>\n",
       "    <tr>\n",
       "      <th>25</th>\n",
       "      <td>2018-01-31</td>\n",
       "      <td>2018-01-31</td>\n",
       "      <td>123</td>\n",
       "      <td>145</td>\n",
       "      <td>3725</td>\n",
       "      <td>Subscriber</td>\n",
       "      <td>1986.0</td>\n",
       "      <td>Male</td>\n",
       "      <td>No</td>\n",
       "      <td>14.666667</td>\n",
       "      <td>33.0</td>\n",
       "    </tr>\n",
       "    <tr>\n",
       "      <th>26</th>\n",
       "      <td>2018-01-31</td>\n",
       "      <td>2018-01-31</td>\n",
       "      <td>285</td>\n",
       "      <td>133</td>\n",
       "      <td>1059</td>\n",
       "      <td>Subscriber</td>\n",
       "      <td>1991.0</td>\n",
       "      <td>Male</td>\n",
       "      <td>No</td>\n",
       "      <td>20.166667</td>\n",
       "      <td>28.0</td>\n",
       "    </tr>\n",
       "    <tr>\n",
       "      <th>27</th>\n",
       "      <td>2018-01-31</td>\n",
       "      <td>2018-01-31</td>\n",
       "      <td>239</td>\n",
       "      <td>266</td>\n",
       "      <td>1208</td>\n",
       "      <td>Subscriber</td>\n",
       "      <td>1994.0</td>\n",
       "      <td>Male</td>\n",
       "      <td>No</td>\n",
       "      <td>4.316667</td>\n",
       "      <td>25.0</td>\n",
       "    </tr>\n",
       "    <tr>\n",
       "      <th>28</th>\n",
       "      <td>2018-01-31</td>\n",
       "      <td>2018-01-31</td>\n",
       "      <td>202</td>\n",
       "      <td>195</td>\n",
       "      <td>1834</td>\n",
       "      <td>Customer</td>\n",
       "      <td>1978.0</td>\n",
       "      <td>Male</td>\n",
       "      <td>No</td>\n",
       "      <td>9.866667</td>\n",
       "      <td>41.0</td>\n",
       "    </tr>\n",
       "    <tr>\n",
       "      <th>29</th>\n",
       "      <td>2018-01-31</td>\n",
       "      <td>2018-01-31</td>\n",
       "      <td>141</td>\n",
       "      <td>79</td>\n",
       "      <td>1248</td>\n",
       "      <td>Subscriber</td>\n",
       "      <td>1988.0</td>\n",
       "      <td>Male</td>\n",
       "      <td>No</td>\n",
       "      <td>17.650000</td>\n",
       "      <td>31.0</td>\n",
       "    </tr>\n",
       "    <tr>\n",
       "      <th>...</th>\n",
       "      <td>...</td>\n",
       "      <td>...</td>\n",
       "      <td>...</td>\n",
       "      <td>...</td>\n",
       "      <td>...</td>\n",
       "      <td>...</td>\n",
       "      <td>...</td>\n",
       "      <td>...</td>\n",
       "      <td>...</td>\n",
       "      <td>...</td>\n",
       "      <td>...</td>\n",
       "    </tr>\n",
       "    <tr>\n",
       "      <th>94772</th>\n",
       "      <td>2018-01-01</td>\n",
       "      <td>2018-01-01</td>\n",
       "      <td>25</td>\n",
       "      <td>97</td>\n",
       "      <td>3242</td>\n",
       "      <td>Customer</td>\n",
       "      <td>1992.0</td>\n",
       "      <td>Male</td>\n",
       "      <td>No</td>\n",
       "      <td>18.133333</td>\n",
       "      <td>27.0</td>\n",
       "    </tr>\n",
       "    <tr>\n",
       "      <th>94773</th>\n",
       "      <td>2018-01-01</td>\n",
       "      <td>2018-01-01</td>\n",
       "      <td>15</td>\n",
       "      <td>17</td>\n",
       "      <td>2941</td>\n",
       "      <td>Customer</td>\n",
       "      <td>NaN</td>\n",
       "      <td>NaN</td>\n",
       "      <td>No</td>\n",
       "      <td>38.066667</td>\n",
       "      <td>NaN</td>\n",
       "    </tr>\n",
       "    <tr>\n",
       "      <th>94774</th>\n",
       "      <td>2018-01-01</td>\n",
       "      <td>2018-01-01</td>\n",
       "      <td>22</td>\n",
       "      <td>110</td>\n",
       "      <td>2085</td>\n",
       "      <td>Customer</td>\n",
       "      <td>NaN</td>\n",
       "      <td>NaN</td>\n",
       "      <td>No</td>\n",
       "      <td>21.566667</td>\n",
       "      <td>NaN</td>\n",
       "    </tr>\n",
       "    <tr>\n",
       "      <th>94775</th>\n",
       "      <td>2018-01-01</td>\n",
       "      <td>2018-01-01</td>\n",
       "      <td>22</td>\n",
       "      <td>110</td>\n",
       "      <td>1290</td>\n",
       "      <td>Customer</td>\n",
       "      <td>NaN</td>\n",
       "      <td>NaN</td>\n",
       "      <td>No</td>\n",
       "      <td>19.066667</td>\n",
       "      <td>NaN</td>\n",
       "    </tr>\n",
       "    <tr>\n",
       "      <th>94776</th>\n",
       "      <td>2018-01-01</td>\n",
       "      <td>2018-01-01</td>\n",
       "      <td>198</td>\n",
       "      <td>195</td>\n",
       "      <td>890</td>\n",
       "      <td>Subscriber</td>\n",
       "      <td>1975.0</td>\n",
       "      <td>Female</td>\n",
       "      <td>No</td>\n",
       "      <td>4.616667</td>\n",
       "      <td>44.0</td>\n",
       "    </tr>\n",
       "    <tr>\n",
       "      <th>94777</th>\n",
       "      <td>2018-01-01</td>\n",
       "      <td>2018-01-01</td>\n",
       "      <td>179</td>\n",
       "      <td>215</td>\n",
       "      <td>2236</td>\n",
       "      <td>Customer</td>\n",
       "      <td>NaN</td>\n",
       "      <td>NaN</td>\n",
       "      <td>No</td>\n",
       "      <td>4.883333</td>\n",
       "      <td>NaN</td>\n",
       "    </tr>\n",
       "    <tr>\n",
       "      <th>94778</th>\n",
       "      <td>2018-01-01</td>\n",
       "      <td>2018-01-01</td>\n",
       "      <td>179</td>\n",
       "      <td>215</td>\n",
       "      <td>1555</td>\n",
       "      <td>Customer</td>\n",
       "      <td>NaN</td>\n",
       "      <td>NaN</td>\n",
       "      <td>No</td>\n",
       "      <td>4.500000</td>\n",
       "      <td>NaN</td>\n",
       "    </tr>\n",
       "    <tr>\n",
       "      <th>94779</th>\n",
       "      <td>2018-01-01</td>\n",
       "      <td>2018-01-01</td>\n",
       "      <td>23</td>\n",
       "      <td>19</td>\n",
       "      <td>3375</td>\n",
       "      <td>Customer</td>\n",
       "      <td>NaN</td>\n",
       "      <td>NaN</td>\n",
       "      <td>No</td>\n",
       "      <td>28.316667</td>\n",
       "      <td>NaN</td>\n",
       "    </tr>\n",
       "    <tr>\n",
       "      <th>94780</th>\n",
       "      <td>2018-01-01</td>\n",
       "      <td>2018-01-01</td>\n",
       "      <td>23</td>\n",
       "      <td>19</td>\n",
       "      <td>1112</td>\n",
       "      <td>Customer</td>\n",
       "      <td>NaN</td>\n",
       "      <td>NaN</td>\n",
       "      <td>No</td>\n",
       "      <td>32.366667</td>\n",
       "      <td>NaN</td>\n",
       "    </tr>\n",
       "    <tr>\n",
       "      <th>94781</th>\n",
       "      <td>2018-01-01</td>\n",
       "      <td>2018-01-01</td>\n",
       "      <td>23</td>\n",
       "      <td>19</td>\n",
       "      <td>3496</td>\n",
       "      <td>Customer</td>\n",
       "      <td>NaN</td>\n",
       "      <td>NaN</td>\n",
       "      <td>No</td>\n",
       "      <td>32.133333</td>\n",
       "      <td>NaN</td>\n",
       "    </tr>\n",
       "    <tr>\n",
       "      <th>94782</th>\n",
       "      <td>2018-01-01</td>\n",
       "      <td>2018-01-01</td>\n",
       "      <td>23</td>\n",
       "      <td>19</td>\n",
       "      <td>2522</td>\n",
       "      <td>Customer</td>\n",
       "      <td>NaN</td>\n",
       "      <td>NaN</td>\n",
       "      <td>No</td>\n",
       "      <td>32.133333</td>\n",
       "      <td>NaN</td>\n",
       "    </tr>\n",
       "    <tr>\n",
       "      <th>94783</th>\n",
       "      <td>2018-01-01</td>\n",
       "      <td>2018-01-01</td>\n",
       "      <td>23</td>\n",
       "      <td>19</td>\n",
       "      <td>2721</td>\n",
       "      <td>Customer</td>\n",
       "      <td>NaN</td>\n",
       "      <td>NaN</td>\n",
       "      <td>No</td>\n",
       "      <td>31.100000</td>\n",
       "      <td>NaN</td>\n",
       "    </tr>\n",
       "    <tr>\n",
       "      <th>94784</th>\n",
       "      <td>2018-01-01</td>\n",
       "      <td>2018-01-01</td>\n",
       "      <td>97</td>\n",
       "      <td>27</td>\n",
       "      <td>3562</td>\n",
       "      <td>Subscriber</td>\n",
       "      <td>1980.0</td>\n",
       "      <td>Male</td>\n",
       "      <td>No</td>\n",
       "      <td>22.533333</td>\n",
       "      <td>39.0</td>\n",
       "    </tr>\n",
       "    <tr>\n",
       "      <th>94785</th>\n",
       "      <td>2018-01-01</td>\n",
       "      <td>2018-01-01</td>\n",
       "      <td>79</td>\n",
       "      <td>44</td>\n",
       "      <td>3386</td>\n",
       "      <td>Subscriber</td>\n",
       "      <td>1985.0</td>\n",
       "      <td>Female</td>\n",
       "      <td>No</td>\n",
       "      <td>8.783333</td>\n",
       "      <td>34.0</td>\n",
       "    </tr>\n",
       "    <tr>\n",
       "      <th>94786</th>\n",
       "      <td>2018-01-01</td>\n",
       "      <td>2018-01-01</td>\n",
       "      <td>79</td>\n",
       "      <td>44</td>\n",
       "      <td>1793</td>\n",
       "      <td>Subscriber</td>\n",
       "      <td>1981.0</td>\n",
       "      <td>Female</td>\n",
       "      <td>No</td>\n",
       "      <td>8.600000</td>\n",
       "      <td>38.0</td>\n",
       "    </tr>\n",
       "    <tr>\n",
       "      <th>94787</th>\n",
       "      <td>2018-01-01</td>\n",
       "      <td>2018-01-01</td>\n",
       "      <td>215</td>\n",
       "      <td>192</td>\n",
       "      <td>2278</td>\n",
       "      <td>Subscriber</td>\n",
       "      <td>1980.0</td>\n",
       "      <td>Male</td>\n",
       "      <td>No</td>\n",
       "      <td>3.516667</td>\n",
       "      <td>39.0</td>\n",
       "    </tr>\n",
       "    <tr>\n",
       "      <th>94788</th>\n",
       "      <td>2018-01-01</td>\n",
       "      <td>2018-01-01</td>\n",
       "      <td>8</td>\n",
       "      <td>17</td>\n",
       "      <td>283</td>\n",
       "      <td>Customer</td>\n",
       "      <td>NaN</td>\n",
       "      <td>NaN</td>\n",
       "      <td>No</td>\n",
       "      <td>19.616667</td>\n",
       "      <td>NaN</td>\n",
       "    </tr>\n",
       "    <tr>\n",
       "      <th>94789</th>\n",
       "      <td>2018-01-01</td>\n",
       "      <td>2018-01-01</td>\n",
       "      <td>8</td>\n",
       "      <td>17</td>\n",
       "      <td>1979</td>\n",
       "      <td>Customer</td>\n",
       "      <td>NaN</td>\n",
       "      <td>NaN</td>\n",
       "      <td>No</td>\n",
       "      <td>17.383333</td>\n",
       "      <td>NaN</td>\n",
       "    </tr>\n",
       "    <tr>\n",
       "      <th>94790</th>\n",
       "      <td>2018-01-01</td>\n",
       "      <td>2018-01-01</td>\n",
       "      <td>8</td>\n",
       "      <td>17</td>\n",
       "      <td>1031</td>\n",
       "      <td>Customer</td>\n",
       "      <td>NaN</td>\n",
       "      <td>NaN</td>\n",
       "      <td>No</td>\n",
       "      <td>19.633333</td>\n",
       "      <td>NaN</td>\n",
       "    </tr>\n",
       "    <tr>\n",
       "      <th>94791</th>\n",
       "      <td>2018-01-01</td>\n",
       "      <td>2018-01-01</td>\n",
       "      <td>55</td>\n",
       "      <td>29</td>\n",
       "      <td>1128</td>\n",
       "      <td>Customer</td>\n",
       "      <td>NaN</td>\n",
       "      <td>NaN</td>\n",
       "      <td>No</td>\n",
       "      <td>24.183333</td>\n",
       "      <td>NaN</td>\n",
       "    </tr>\n",
       "    <tr>\n",
       "      <th>94792</th>\n",
       "      <td>2018-01-01</td>\n",
       "      <td>2018-01-01</td>\n",
       "      <td>16</td>\n",
       "      <td>93</td>\n",
       "      <td>2670</td>\n",
       "      <td>Customer</td>\n",
       "      <td>1984.0</td>\n",
       "      <td>Female</td>\n",
       "      <td>No</td>\n",
       "      <td>18.316667</td>\n",
       "      <td>35.0</td>\n",
       "    </tr>\n",
       "    <tr>\n",
       "      <th>94793</th>\n",
       "      <td>2018-01-01</td>\n",
       "      <td>2018-01-01</td>\n",
       "      <td>11</td>\n",
       "      <td>323</td>\n",
       "      <td>2173</td>\n",
       "      <td>Customer</td>\n",
       "      <td>1995.0</td>\n",
       "      <td>Male</td>\n",
       "      <td>No</td>\n",
       "      <td>22.650000</td>\n",
       "      <td>24.0</td>\n",
       "    </tr>\n",
       "    <tr>\n",
       "      <th>94794</th>\n",
       "      <td>2018-01-01</td>\n",
       "      <td>2018-01-01</td>\n",
       "      <td>15</td>\n",
       "      <td>22</td>\n",
       "      <td>1746</td>\n",
       "      <td>Customer</td>\n",
       "      <td>NaN</td>\n",
       "      <td>NaN</td>\n",
       "      <td>No</td>\n",
       "      <td>10.633333</td>\n",
       "      <td>NaN</td>\n",
       "    </tr>\n",
       "    <tr>\n",
       "      <th>94795</th>\n",
       "      <td>2018-01-01</td>\n",
       "      <td>2018-01-01</td>\n",
       "      <td>15</td>\n",
       "      <td>22</td>\n",
       "      <td>2454</td>\n",
       "      <td>Customer</td>\n",
       "      <td>NaN</td>\n",
       "      <td>NaN</td>\n",
       "      <td>No</td>\n",
       "      <td>10.450000</td>\n",
       "      <td>NaN</td>\n",
       "    </tr>\n",
       "    <tr>\n",
       "      <th>94796</th>\n",
       "      <td>2018-01-01</td>\n",
       "      <td>2018-01-01</td>\n",
       "      <td>23</td>\n",
       "      <td>66</td>\n",
       "      <td>1019</td>\n",
       "      <td>Customer</td>\n",
       "      <td>NaN</td>\n",
       "      <td>NaN</td>\n",
       "      <td>No</td>\n",
       "      <td>12.533333</td>\n",
       "      <td>NaN</td>\n",
       "    </tr>\n",
       "    <tr>\n",
       "      <th>94797</th>\n",
       "      <td>2018-01-01</td>\n",
       "      <td>2018-01-01</td>\n",
       "      <td>23</td>\n",
       "      <td>66</td>\n",
       "      <td>3671</td>\n",
       "      <td>Customer</td>\n",
       "      <td>NaN</td>\n",
       "      <td>NaN</td>\n",
       "      <td>No</td>\n",
       "      <td>11.583333</td>\n",
       "      <td>NaN</td>\n",
       "    </tr>\n",
       "    <tr>\n",
       "      <th>94798</th>\n",
       "      <td>2018-01-01</td>\n",
       "      <td>2018-01-01</td>\n",
       "      <td>17</td>\n",
       "      <td>19</td>\n",
       "      <td>603</td>\n",
       "      <td>Customer</td>\n",
       "      <td>NaN</td>\n",
       "      <td>NaN</td>\n",
       "      <td>No</td>\n",
       "      <td>10.000000</td>\n",
       "      <td>NaN</td>\n",
       "    </tr>\n",
       "    <tr>\n",
       "      <th>94799</th>\n",
       "      <td>2018-01-01</td>\n",
       "      <td>2018-01-01</td>\n",
       "      <td>97</td>\n",
       "      <td>125</td>\n",
       "      <td>3455</td>\n",
       "      <td>Subscriber</td>\n",
       "      <td>1992.0</td>\n",
       "      <td>Male</td>\n",
       "      <td>No</td>\n",
       "      <td>19.183333</td>\n",
       "      <td>27.0</td>\n",
       "    </tr>\n",
       "    <tr>\n",
       "      <th>94800</th>\n",
       "      <td>2018-01-01</td>\n",
       "      <td>2018-01-01</td>\n",
       "      <td>74</td>\n",
       "      <td>70</td>\n",
       "      <td>2423</td>\n",
       "      <td>Subscriber</td>\n",
       "      <td>1986.0</td>\n",
       "      <td>Male</td>\n",
       "      <td>No</td>\n",
       "      <td>11.900000</td>\n",
       "      <td>33.0</td>\n",
       "    </tr>\n",
       "    <tr>\n",
       "      <th>94801</th>\n",
       "      <td>2018-01-01</td>\n",
       "      <td>2018-01-01</td>\n",
       "      <td>316</td>\n",
       "      <td>311</td>\n",
       "      <td>2473</td>\n",
       "      <td>Subscriber</td>\n",
       "      <td>1957.0</td>\n",
       "      <td>Male</td>\n",
       "      <td>No</td>\n",
       "      <td>2.416667</td>\n",
       "      <td>62.0</td>\n",
       "    </tr>\n",
       "  </tbody>\n",
       "</table>\n",
       "<p>94802 rows × 11 columns</p>\n",
       "</div>"
      ],
      "text/plain": [
       "       start_time    end_time  start_station_id  end_station_id  bike_id  \\\n",
       "0      2018-01-31  2018-02-01               120             285     2765   \n",
       "1      2018-01-31  2018-02-01                15              15     2815   \n",
       "2      2018-01-31  2018-02-01               304             296     3039   \n",
       "3      2018-01-31  2018-02-01                75              47      321   \n",
       "4      2018-01-31  2018-02-01                74              19      617   \n",
       "5      2018-01-31  2018-02-01               236             160     1306   \n",
       "6      2018-01-31  2018-02-01               110             134     3571   \n",
       "7      2018-01-31  2018-01-31                81              93     1403   \n",
       "8      2018-01-31  2018-01-31               134               4     3675   \n",
       "9      2018-01-31  2018-01-31               305             317     1453   \n",
       "10     2018-01-31  2018-01-31                98               4     1278   \n",
       "11     2018-01-31  2018-01-31                89              43     2928   \n",
       "12     2018-01-31  2018-01-31               223              86     3016   \n",
       "13     2018-01-31  2018-01-31               308             297       55   \n",
       "14     2018-01-31  2018-01-31                 7             186     2602   \n",
       "15     2018-01-31  2018-01-31                98              76     2556   \n",
       "16     2018-01-31  2018-01-31                67              98     3041   \n",
       "17     2018-01-31  2018-01-31                80              78      546   \n",
       "18     2018-01-31  2018-01-31               247             274      431   \n",
       "19     2018-01-31  2018-01-31               312             317     1886   \n",
       "20     2018-01-31  2018-01-31               241             157     3583   \n",
       "21     2018-01-31  2018-01-31               239             244     2144   \n",
       "22     2018-01-31  2018-01-31               182             183     3468   \n",
       "23     2018-01-31  2018-01-31               119             134     1432   \n",
       "24     2018-01-31  2018-01-31               176             189      997   \n",
       "25     2018-01-31  2018-01-31               123             145     3725   \n",
       "26     2018-01-31  2018-01-31               285             133     1059   \n",
       "27     2018-01-31  2018-01-31               239             266     1208   \n",
       "28     2018-01-31  2018-01-31               202             195     1834   \n",
       "29     2018-01-31  2018-01-31               141              79     1248   \n",
       "...           ...         ...               ...             ...      ...   \n",
       "94772  2018-01-01  2018-01-01                25              97     3242   \n",
       "94773  2018-01-01  2018-01-01                15              17     2941   \n",
       "94774  2018-01-01  2018-01-01                22             110     2085   \n",
       "94775  2018-01-01  2018-01-01                22             110     1290   \n",
       "94776  2018-01-01  2018-01-01               198             195      890   \n",
       "94777  2018-01-01  2018-01-01               179             215     2236   \n",
       "94778  2018-01-01  2018-01-01               179             215     1555   \n",
       "94779  2018-01-01  2018-01-01                23              19     3375   \n",
       "94780  2018-01-01  2018-01-01                23              19     1112   \n",
       "94781  2018-01-01  2018-01-01                23              19     3496   \n",
       "94782  2018-01-01  2018-01-01                23              19     2522   \n",
       "94783  2018-01-01  2018-01-01                23              19     2721   \n",
       "94784  2018-01-01  2018-01-01                97              27     3562   \n",
       "94785  2018-01-01  2018-01-01                79              44     3386   \n",
       "94786  2018-01-01  2018-01-01                79              44     1793   \n",
       "94787  2018-01-01  2018-01-01               215             192     2278   \n",
       "94788  2018-01-01  2018-01-01                 8              17      283   \n",
       "94789  2018-01-01  2018-01-01                 8              17     1979   \n",
       "94790  2018-01-01  2018-01-01                 8              17     1031   \n",
       "94791  2018-01-01  2018-01-01                55              29     1128   \n",
       "94792  2018-01-01  2018-01-01                16              93     2670   \n",
       "94793  2018-01-01  2018-01-01                11             323     2173   \n",
       "94794  2018-01-01  2018-01-01                15              22     1746   \n",
       "94795  2018-01-01  2018-01-01                15              22     2454   \n",
       "94796  2018-01-01  2018-01-01                23              66     1019   \n",
       "94797  2018-01-01  2018-01-01                23              66     3671   \n",
       "94798  2018-01-01  2018-01-01                17              19      603   \n",
       "94799  2018-01-01  2018-01-01                97             125     3455   \n",
       "94800  2018-01-01  2018-01-01                74              70     2423   \n",
       "94801  2018-01-01  2018-01-01               316             311     2473   \n",
       "\n",
       "        user_type  member_birth_year member_gender bike_share_for_all_trip  \\\n",
       "0      Subscriber             1986.0          Male                      No   \n",
       "1        Customer                NaN           NaN                      No   \n",
       "2        Customer             1996.0          Male                      No   \n",
       "3        Customer                NaN           NaN                      No   \n",
       "4      Subscriber             1991.0          Male                      No   \n",
       "5        Customer                NaN           NaN                      No   \n",
       "6      Subscriber             1988.0          Male                      No   \n",
       "7      Subscriber             1980.0          Male                      No   \n",
       "8      Subscriber             1987.0          Male                     Yes   \n",
       "9      Subscriber             1994.0        Female                     Yes   \n",
       "10       Customer                NaN           NaN                      No   \n",
       "11     Subscriber             1993.0          Male                      No   \n",
       "12     Subscriber             1957.0          Male                      No   \n",
       "13     Subscriber             1976.0        Female                     Yes   \n",
       "14     Subscriber             1976.0          Male                      No   \n",
       "15     Subscriber             1964.0        Female                      No   \n",
       "16     Subscriber             1976.0          Male                     Yes   \n",
       "17     Subscriber             1995.0        Female                      No   \n",
       "18     Subscriber                NaN           NaN                      No   \n",
       "19     Subscriber             1997.0        Female                      No   \n",
       "20     Subscriber             1994.0          Male                      No   \n",
       "21     Subscriber             1983.0          Male                      No   \n",
       "22     Subscriber             1945.0          Male                     Yes   \n",
       "23     Subscriber             1971.0          Male                     Yes   \n",
       "24     Subscriber             1975.0          Male                      No   \n",
       "25     Subscriber             1986.0          Male                      No   \n",
       "26     Subscriber             1991.0          Male                      No   \n",
       "27     Subscriber             1994.0          Male                      No   \n",
       "28       Customer             1978.0          Male                      No   \n",
       "29     Subscriber             1988.0          Male                      No   \n",
       "...           ...                ...           ...                     ...   \n",
       "94772    Customer             1992.0          Male                      No   \n",
       "94773    Customer                NaN           NaN                      No   \n",
       "94774    Customer                NaN           NaN                      No   \n",
       "94775    Customer                NaN           NaN                      No   \n",
       "94776  Subscriber             1975.0        Female                      No   \n",
       "94777    Customer                NaN           NaN                      No   \n",
       "94778    Customer                NaN           NaN                      No   \n",
       "94779    Customer                NaN           NaN                      No   \n",
       "94780    Customer                NaN           NaN                      No   \n",
       "94781    Customer                NaN           NaN                      No   \n",
       "94782    Customer                NaN           NaN                      No   \n",
       "94783    Customer                NaN           NaN                      No   \n",
       "94784  Subscriber             1980.0          Male                      No   \n",
       "94785  Subscriber             1985.0        Female                      No   \n",
       "94786  Subscriber             1981.0        Female                      No   \n",
       "94787  Subscriber             1980.0          Male                      No   \n",
       "94788    Customer                NaN           NaN                      No   \n",
       "94789    Customer                NaN           NaN                      No   \n",
       "94790    Customer                NaN           NaN                      No   \n",
       "94791    Customer                NaN           NaN                      No   \n",
       "94792    Customer             1984.0        Female                      No   \n",
       "94793    Customer             1995.0          Male                      No   \n",
       "94794    Customer                NaN           NaN                      No   \n",
       "94795    Customer                NaN           NaN                      No   \n",
       "94796    Customer                NaN           NaN                      No   \n",
       "94797    Customer                NaN           NaN                      No   \n",
       "94798    Customer                NaN           NaN                      No   \n",
       "94799  Subscriber             1992.0          Male                      No   \n",
       "94800  Subscriber             1986.0          Male                      No   \n",
       "94801  Subscriber             1957.0          Male                      No   \n",
       "\n",
       "       duration_min  member_age  \n",
       "0       1254.733333        33.0  \n",
       "1       1423.700000         NaN  \n",
       "2       1192.933333        23.0  \n",
       "3       1017.933333         NaN  \n",
       "4        666.100000        28.0  \n",
       "5        107.950000         NaN  \n",
       "6          7.550000        31.0  \n",
       "7          3.000000        39.0  \n",
       "8         16.600000        32.0  \n",
       "9         13.750000        25.0  \n",
       "10        21.933333         NaN  \n",
       "11         7.200000        26.0  \n",
       "12        10.016667        62.0  \n",
       "13        14.783333        43.0  \n",
       "14         3.500000        43.0  \n",
       "15         3.133333        55.0  \n",
       "16        13.466667        43.0  \n",
       "17         6.300000        24.0  \n",
       "18         5.833333         NaN  \n",
       "19        11.433333        22.0  \n",
       "20         7.500000        25.0  \n",
       "21         4.900000        36.0  \n",
       "22         2.500000        74.0  \n",
       "23         7.700000        48.0  \n",
       "24         6.316667        44.0  \n",
       "25        14.666667        33.0  \n",
       "26        20.166667        28.0  \n",
       "27         4.316667        25.0  \n",
       "28         9.866667        41.0  \n",
       "29        17.650000        31.0  \n",
       "...             ...         ...  \n",
       "94772     18.133333        27.0  \n",
       "94773     38.066667         NaN  \n",
       "94774     21.566667         NaN  \n",
       "94775     19.066667         NaN  \n",
       "94776      4.616667        44.0  \n",
       "94777      4.883333         NaN  \n",
       "94778      4.500000         NaN  \n",
       "94779     28.316667         NaN  \n",
       "94780     32.366667         NaN  \n",
       "94781     32.133333         NaN  \n",
       "94782     32.133333         NaN  \n",
       "94783     31.100000         NaN  \n",
       "94784     22.533333        39.0  \n",
       "94785      8.783333        34.0  \n",
       "94786      8.600000        38.0  \n",
       "94787      3.516667        39.0  \n",
       "94788     19.616667         NaN  \n",
       "94789     17.383333         NaN  \n",
       "94790     19.633333         NaN  \n",
       "94791     24.183333         NaN  \n",
       "94792     18.316667        35.0  \n",
       "94793     22.650000        24.0  \n",
       "94794     10.633333         NaN  \n",
       "94795     10.450000         NaN  \n",
       "94796     12.533333         NaN  \n",
       "94797     11.583333         NaN  \n",
       "94798     10.000000         NaN  \n",
       "94799     19.183333        27.0  \n",
       "94800     11.900000        33.0  \n",
       "94801      2.416667        62.0  \n",
       "\n",
       "[94802 rows x 11 columns]"
      ]
     },
     "execution_count": 18,
     "metadata": {},
     "output_type": "execute_result"
    }
   ],
   "source": [
    "# test to make sure it worked\n",
    "bike_copy"
   ]
  },
  {
   "cell_type": "code",
   "execution_count": 16,
   "metadata": {
    "slideshow": {
     "slide_type": "skip"
    }
   },
   "outputs": [],
   "source": [
    "#store and save the file\n",
    "bike_copy.to_csv('ford_bike_data.csv')"
   ]
  },
  {
   "cell_type": "markdown",
   "metadata": {
    "slideshow": {
     "slide_type": "slide"
    }
   },
   "source": [
    "#### What is the structure of the dataset?\n",
    "- After cleaning we have 86963 number of data with 11 different features. \n",
    "\n",
    "#### The the main feature(s) of interest and questions to ask are:\n",
    "- What is the average duration of trips?\n",
    "- Does age have any effect on the duration/number of trips?\n",
    "- What is the impact or dependency of the above insights on whether a user is a subscriber or a customer?\n",
    "- Is there any correlation between age and the duration of trips? \n",
    "- Does gender play any role in the duration/number of trips between different age groups? \n",
    "\n",
    "#### The following features I think will help support my investigation into feature(s) of interest :\n",
    "- Trip Duration (min), Start Date , End  Date, User Type , Member Year of Birth , Member Gender, Member Age\n"
   ]
  },
  {
   "cell_type": "code",
   "execution_count": 19,
   "metadata": {
    "slideshow": {
     "slide_type": "slide"
    }
   },
   "outputs": [
    {
     "data": {
      "text/html": [
       "<div>\n",
       "<style scoped>\n",
       "    .dataframe tbody tr th:only-of-type {\n",
       "        vertical-align: middle;\n",
       "    }\n",
       "\n",
       "    .dataframe tbody tr th {\n",
       "        vertical-align: top;\n",
       "    }\n",
       "\n",
       "    .dataframe thead th {\n",
       "        text-align: right;\n",
       "    }\n",
       "</style>\n",
       "<table border=\"1\" class=\"dataframe\">\n",
       "  <thead>\n",
       "    <tr style=\"text-align: right;\">\n",
       "      <th></th>\n",
       "      <th>start_station_id</th>\n",
       "      <th>end_station_id</th>\n",
       "      <th>bike_id</th>\n",
       "      <th>member_birth_year</th>\n",
       "      <th>duration_min</th>\n",
       "      <th>member_age</th>\n",
       "    </tr>\n",
       "  </thead>\n",
       "  <tbody>\n",
       "    <tr>\n",
       "      <th>count</th>\n",
       "      <td>94802.000000</td>\n",
       "      <td>94802.00000</td>\n",
       "      <td>94802.000000</td>\n",
       "      <td>86963.000000</td>\n",
       "      <td>94802.000000</td>\n",
       "      <td>86963.000000</td>\n",
       "    </tr>\n",
       "    <tr>\n",
       "      <th>mean</th>\n",
       "      <td>103.766302</td>\n",
       "      <td>101.00982</td>\n",
       "      <td>2048.751609</td>\n",
       "      <td>1980.932420</td>\n",
       "      <td>14.515599</td>\n",
       "      <td>38.067580</td>\n",
       "    </tr>\n",
       "    <tr>\n",
       "      <th>std</th>\n",
       "      <td>87.730464</td>\n",
       "      <td>86.77949</td>\n",
       "      <td>1091.507513</td>\n",
       "      <td>10.803017</td>\n",
       "      <td>42.509948</td>\n",
       "      <td>10.803017</td>\n",
       "    </tr>\n",
       "    <tr>\n",
       "      <th>min</th>\n",
       "      <td>3.000000</td>\n",
       "      <td>3.00000</td>\n",
       "      <td>11.000000</td>\n",
       "      <td>1900.000000</td>\n",
       "      <td>1.016667</td>\n",
       "      <td>19.000000</td>\n",
       "    </tr>\n",
       "    <tr>\n",
       "      <th>25%</th>\n",
       "      <td>30.000000</td>\n",
       "      <td>27.00000</td>\n",
       "      <td>1133.000000</td>\n",
       "      <td>1975.000000</td>\n",
       "      <td>5.983333</td>\n",
       "      <td>30.000000</td>\n",
       "    </tr>\n",
       "    <tr>\n",
       "      <th>50%</th>\n",
       "      <td>79.000000</td>\n",
       "      <td>76.00000</td>\n",
       "      <td>2151.500000</td>\n",
       "      <td>1983.000000</td>\n",
       "      <td>9.250000</td>\n",
       "      <td>36.000000</td>\n",
       "    </tr>\n",
       "    <tr>\n",
       "      <th>75%</th>\n",
       "      <td>160.000000</td>\n",
       "      <td>157.00000</td>\n",
       "      <td>3015.000000</td>\n",
       "      <td>1989.000000</td>\n",
       "      <td>14.233333</td>\n",
       "      <td>44.000000</td>\n",
       "    </tr>\n",
       "    <tr>\n",
       "      <th>max</th>\n",
       "      <td>342.000000</td>\n",
       "      <td>342.00000</td>\n",
       "      <td>3744.000000</td>\n",
       "      <td>2000.000000</td>\n",
       "      <td>1425.766667</td>\n",
       "      <td>119.000000</td>\n",
       "    </tr>\n",
       "  </tbody>\n",
       "</table>\n",
       "</div>"
      ],
      "text/plain": [
       "       start_station_id  end_station_id       bike_id  member_birth_year  \\\n",
       "count      94802.000000     94802.00000  94802.000000       86963.000000   \n",
       "mean         103.766302       101.00982   2048.751609        1980.932420   \n",
       "std           87.730464        86.77949   1091.507513          10.803017   \n",
       "min            3.000000         3.00000     11.000000        1900.000000   \n",
       "25%           30.000000        27.00000   1133.000000        1975.000000   \n",
       "50%           79.000000        76.00000   2151.500000        1983.000000   \n",
       "75%          160.000000       157.00000   3015.000000        1989.000000   \n",
       "max          342.000000       342.00000   3744.000000        2000.000000   \n",
       "\n",
       "       duration_min    member_age  \n",
       "count  94802.000000  86963.000000  \n",
       "mean      14.515599     38.067580  \n",
       "std       42.509948     10.803017  \n",
       "min        1.016667     19.000000  \n",
       "25%        5.983333     30.000000  \n",
       "50%        9.250000     36.000000  \n",
       "75%       14.233333     44.000000  \n",
       "max     1425.766667    119.000000  "
      ]
     },
     "execution_count": 19,
     "metadata": {},
     "output_type": "execute_result"
    }
   ],
   "source": [
    "# descriptive statistics for numeric variables\n",
    "bike_copy.describe()"
   ]
  },
  {
   "cell_type": "markdown",
   "metadata": {
    "slideshow": {
     "slide_type": "slide"
    }
   },
   "source": [
    "#### Observations\n",
    "- The average duration in minutes is 14. The minimun is about 1 min and the maximum is about 1426b min. \n",
    "- The average age of the members are around 38 years. Maximum age being 119 years and minimum age being 19 years. \n",
    "\n",
    "#### Univariate Exploration\n",
    "- First we will look at how the duration time is distributed. What is the average duration of trips?"
   ]
  },
  {
   "cell_type": "code",
   "execution_count": 21,
   "metadata": {
    "slideshow": {
     "slide_type": "skip"
    }
   },
   "outputs": [
    {
     "data": {
      "image/png": "[encoded data removed]",
      "text/plain": [
       "<Figure size 432x288 with 1 Axes>"
      ]
     },
     "metadata": {
      "needs_background": "light"
     },
     "output_type": "display_data"
    }
   ],
   "source": [
    "# Here we plot the distribution of trip durations.\n",
    "binedges = 10**np.arange(0 , 3+0.1 , 0.1)\n",
    "ticks =  [ 0.1 , 0.3 , 1 , 3, 10, 30, 100, 300]\n",
    "plt.hist(data = bike_copy , x = 'duration_min', bins = binedges )\n",
    "plt.title('Distribution of various Trip Durations')\n",
    "plt.xlabel('Duration in Minutes')\n",
    "plt.ylabel('Frequency');"
   ]
  },
  {
   "cell_type": "markdown",
   "metadata": {
    "slideshow": {
     "slide_type": "skip"
    }
   },
   "source": [
    "As we can see from the graph the above plot is right-screwed, with a long tail on the right. Therefore, the  next step is to apply a logarithmic transformation to x-axis."
   ]
  },
  {
   "cell_type": "code",
   "execution_count": 22,
   "metadata": {
    "slideshow": {
     "slide_type": "slide"
    }
   },
   "outputs": [
    {
     "data": {
      "image/png": "[encoded data removed]",
      "text/plain": [
       "<Figure size 432x288 with 1 Axes>"
      ]
     },
     "metadata": {
      "needs_background": "light"
     },
     "output_type": "display_data"
    }
   ],
   "source": [
    "# Here we plot the distribution of trip durations.\n",
    "binedges = 10**np.arange(0 , 3+0.1 , 0.1)\n",
    "ticks =  [ 0.1 , 0.3 , 1 , 3, 10, 30, 100, 300]\n",
    "plt.hist(data = bike_copy , x = 'duration_min', bins = binedges )\n",
    "plt.title('Distribution of various Trip Durations')\n",
    "plt.xlabel('Duration in Minutes')\n",
    "plt.ylabel('Frequency')\n",
    "plt.xscale('log');"
   ]
  },
  {
   "cell_type": "markdown",
   "metadata": {
    "slideshow": {
     "slide_type": "slide"
    }
   },
   "source": [
    "From the graph we can tell that most people like to go for short trips of about 10 mins."
   ]
  },
  {
   "cell_type": "markdown",
   "metadata": {
    "slideshow": {
     "slide_type": "slide"
    }
   },
   "source": [
    "#### Bivariate Exploration \n",
    "\n",
    "- First we will take a look at how the age affects the duration time"
   ]
  },
  {
   "cell_type": "code",
   "execution_count": 24,
   "metadata": {
    "slideshow": {
     "slide_type": "skip"
    }
   },
   "outputs": [
    {
     "data": {
      "image/png": "[encoded data removed]",
      "text/plain": [
       "<Figure size 864x864 with 1 Axes>"
      ]
     },
     "metadata": {
      "needs_background": "light"
     },
     "output_type": "display_data"
    }
   ],
   "source": [
    "# how does the age affect the duration time \n",
    "plt.figure(figsize = [12,12]) # Makes the figure enlarged for better visualization \n",
    "plt.scatter(data = bike_copy , x = 'member_age' , y = 'duration_min' , alpha = 0.2 )\n",
    "plt.title('The Age-wise Trip Duration Trend')\n",
    "plt.xlabel('Age')\n",
    "plt.ylabel('Trip Duration in Minutes');"
   ]
  },
  {
   "cell_type": "markdown",
   "metadata": {
    "slideshow": {
     "slide_type": "skip"
    }
   },
   "source": [
    "While we can see some trend with increasing age and decreasing trip duration time, the graph is extremely difficult to visualize. Thus, in the next step we will group the ages of the members, for better clarity. "
   ]
  },
  {
   "cell_type": "code",
   "execution_count": 25,
   "metadata": {
    "slideshow": {
     "slide_type": "skip"
    }
   },
   "outputs": [
    {
     "data": {
      "text/plain": [
       "30-39    36715\n",
       "18-29    22062\n",
       "40-49    15943\n",
       "50-59     9051\n",
       "60-69     2446\n",
       "70-79      461\n",
       "80+        285\n",
       "Name: agerange, dtype: int64"
      ]
     },
     "execution_count": 25,
     "metadata": {},
     "output_type": "execute_result"
    }
   ],
   "source": [
    "# Grouping the ages of the members in 7 categories\n",
    "bins = [18, 30, 40, 50, 60, 70, 80, 120]\n",
    "labels = ['18-29', '30-39', '40-49', '50-59', '60-69', '70-79', '80+']\n",
    "bike_copy['agerange'] = pd.cut(bike_copy.member_age, bins, labels = labels,include_lowest = True)\n",
    "bike_copy['agerange'].value_counts()"
   ]
  },
  {
   "cell_type": "code",
   "execution_count": 27,
   "metadata": {
    "slideshow": {
     "slide_type": "slide"
    }
   },
   "outputs": [
    {
     "data": {
      "image/png": "[encoded data removed]",
      "text/plain": [
       "<Figure size 864x864 with 1 Axes>"
      ]
     },
     "metadata": {
      "needs_background": "light"
     },
     "output_type": "display_data"
    }
   ],
   "source": [
    "# Now let's observe the age ranges vs the trip durations\n",
    "plt.figure(figsize = [12,12]) # Makes the figure enlarged for better visualization \n",
    "base_color = sns.color_palette()[1]\n",
    "sns.stripplot(data = bike_copy , x = 'agerange' , y = 'duration_min', alpha = 0.3, jitter = 0.2, color = base_color)\n",
    "plt.title('The Age-wise Trip Duration Trend')\n",
    "plt.xlabel('Age')\n",
    "plt.ylabel('Trip Duration in Minutes');"
   ]
  },
  {
   "cell_type": "markdown",
   "metadata": {
    "slideshow": {
     "slide_type": "slide"
    }
   },
   "source": [
    "- This graph clearly proves that with increasing age the duration of trip decreases, as it is expected. \n",
    "- Between 18- 29 and 30-39 the trip durations and the number of trips are higher. \n",
    "- We have one person between the age of 60 - 69 with trip duration above 1200 minutes. We can't be sure this is an outlier,     because he/she may be a really fit person !!"
   ]
  },
  {
   "cell_type": "markdown",
   "metadata": {
    "slideshow": {
     "slide_type": "slide"
    }
   },
   "source": [
    "- Is there any correlation between age and the duration of trips ?"
   ]
  },
  {
   "cell_type": "code",
   "execution_count": 32,
   "metadata": {
    "slideshow": {
     "slide_type": "slide"
    }
   },
   "outputs": [
    {
     "data": {
      "image/png": "[encoded data removed]",
      "text/plain": [
       "<Figure size 432x288 with 1 Axes>"
      ]
     },
     "metadata": {
      "needs_background": "light"
     },
     "output_type": "display_data"
    }
   ],
   "source": [
    "# Checking if there is any corelation between age and the time duration. \n",
    "sns.regplot(data = bike_copy , x = 'member_age' , y = 'duration_min');\n",
    "plt.xlabel('Age')\n",
    "plt.ylabel('Trip Duration in Minutes')\n",
    "plt.title('Age Vs Trip Duration');"
   ]
  },
  {
   "cell_type": "markdown",
   "metadata": {
    "slideshow": {
     "slide_type": "slide"
    }
   },
   "source": [
    "There is no positive or negative corelation between age and the duration of trips."
   ]
  },
  {
   "cell_type": "markdown",
   "metadata": {
    "slideshow": {
     "slide_type": "slide"
    }
   },
   "source": [
    "#### Multivariate Exploration\n",
    "\n",
    "First we will take a look at between differents sexes how likely the members are willing to share their bike data"
   ]
  },
  {
   "cell_type": "code",
   "execution_count": 28,
   "metadata": {
    "slideshow": {
     "slide_type": "slide"
    }
   },
   "outputs": [
    {
     "data": {
      "image/png": "[encoded data removed]",
      "text/plain": [
       "<Figure size 432x288 with 1 Axes>"
      ]
     },
     "metadata": {
      "needs_background": "light"
     },
     "output_type": "display_data"
    }
   ],
   "source": [
    "# Looking at how likely the members are willing to share their bike trip data\n",
    "sns.countplot(data = bike_copy , x = 'bike_share_for_all_trip' , hue = 'member_gender');\n",
    "plt.xlabel('Bike Share for all trip')\n",
    "plt.ylabel('Number of Members');\n",
    "plt.title('Bike Share data against Gender');"
   ]
  },
  {
   "cell_type": "markdown",
   "metadata": {
    "slideshow": {
     "slide_type": "slide"
    }
   },
   "source": [
    "In general memebers are more likely to not share their trip data. Also we can see more Males share their data than Females. "
   ]
  },
  {
   "cell_type": "markdown",
   "metadata": {
    "slideshow": {
     "slide_type": "slide"
    }
   },
   "source": [
    "What is the impact or dependency of age and trip duration insights on whether a user is a subscriber or a customer?"
   ]
  },
  {
   "cell_type": "code",
   "execution_count": 29,
   "metadata": {
    "slideshow": {
     "slide_type": "slide"
    }
   },
   "outputs": [
    {
     "data": {
      "image/png": "[encoded data removed]",
      "text/plain": [
       "<Figure size 432x288 with 1 Axes>"
      ]
     },
     "metadata": {
      "needs_background": "light"
     },
     "output_type": "display_data"
    }
   ],
   "source": [
    "# Checking how the trip duration is affected by  age and user type\n",
    "sns.barplot(data = bike_copy , x = 'agerange' , y = 'duration_min', hue = 'user_type');\n",
    "plt.title('Trip Duration(min) Against Age and User Type');\n",
    "plt.xlabel('Age')\n",
    "plt.ylabel('Trip Duration in Minutes');"
   ]
  },
  {
   "cell_type": "markdown",
   "metadata": {
    "slideshow": {
     "slide_type": "slide"
    }
   },
   "source": [
    "- Customers in almost all age groups have longer trip durations than subscribers.\n",
    "- The only exception being between the ages 70-79 where subscribers have slightly higher trip duration. "
   ]
  },
  {
   "cell_type": "markdown",
   "metadata": {
    "slideshow": {
     "slide_type": "slide"
    }
   },
   "source": [
    "Does gender play any role in the duration/number of trips between different age groups? "
   ]
  },
  {
   "cell_type": "code",
   "execution_count": 30,
   "metadata": {
    "slideshow": {
     "slide_type": "slide"
    }
   },
   "outputs": [
    {
     "data": {
      "image/png": "[encoded data removed]",
      "text/plain": [
       "<Figure size 432x288 with 1 Axes>"
      ]
     },
     "metadata": {
      "needs_background": "light"
     },
     "output_type": "display_data"
    }
   ],
   "source": [
    "# Checking how the trip duration is affected by  age and user type\n",
    "sns.barplot(data = bike_copy , x = 'agerange' , y = 'duration_min', hue = 'member_gender');\n",
    "plt.title('Trip Duration(min) Against Age and Gender');\n",
    "plt.xlabel('Age')\n",
    "plt.ylabel('Trip Duration in Minutes');"
   ]
  },
  {
   "cell_type": "markdown",
   "metadata": {
    "slideshow": {
     "slide_type": "slide"
    }
   },
   "source": [
    "- It is interesting to note that in almost all age groups Females have longer Trip duration's than males. \n",
    "- The exception being in 80 +\n",
    "- Also there are a lot of rows with Other as a gender Category. "
   ]
  },
  {
   "cell_type": "markdown",
   "metadata": {
    "slideshow": {
     "slide_type": "slide"
    }
   },
   "source": [
    "#### Conclusions \n",
    "- Most people like to go for short trips of about 10 mins.\n",
    "- Increasing age the duration of trip decreases, as it is expected.\n",
    "- Between 18- 29 and 30-39 the trip durations and the number of trips are higher.\n",
    "- We have one person between the age of 60 - 69 with trip duration above 1200 minutes. We can't be sure this is an outlier, because he/she may be a really fit person !!\n",
    "- There is no positive or negative corelation between age and the duration of trips.\n",
    "- In general members are more likely to not share their trip data. Also more Males share their data than Females.\n",
    "- Customers in almost all age groups have longer trip durations than subscribers.\n",
    "- The only exception being between the ages 70-79 where subscribers have slightly higher trip duration.\n",
    "- In almost all age groups Females have longer Trip duration's than males.The exception being in 80 +\n",
    "- There are a lot of rows with Other as a gender Category."
   ]
  },
  {
   "cell_type": "markdown",
   "metadata": {
    "slideshow": {
     "slide_type": "slide"
    }
   },
   "source": [
    "Thank you !"
   ]
  },
  {
   "cell_type": "code",
   "execution_count": null,
   "metadata": {},
   "outputs": [],
   "source": []
  }
 ],
 "metadata": {
  "celltoolbar": "Slideshow",
  "kernelspec": {
   "display_name": "Python 3",
   "language": "python",
   "name": "python3"
  },
  "language_info": {
   "codemirror_mode": {
    "name": "ipython",
    "version": 3
   },
   "file_extension": ".py",
   "mimetype": "text/x-python",
   "name": "python",
   "nbconvert_exporter": "python",
   "pygments_lexer": "ipython3",
   "version": "3.7.3"
  }
 },
 "nbformat": 4,
 "nbformat_minor": 2
}
